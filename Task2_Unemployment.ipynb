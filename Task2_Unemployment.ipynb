{
 "cells": [
  {
   "cell_type": "code",
   "execution_count": null,
   "metadata": {},
   "outputs": [],
   "source": [
    "import pandas as pd\n",
    "import numpy as np\n",
    "import matplotlib.pyplot as plt\n",
    "import seaborn as sns\n",
    "from sklearn.preprocessing import LabelEncoder, StandardScaler\n",
    "from sklearn.model_selection import train_test_split\n",
    "from sklearn.linear_model import LinearRegression\n",
    "from sklearn.ensemble import RandomForestRegressor\n",
    "from sklearn.metrics import mean_squared_error, r2_score, mean_absolute_error\n",
    "import warnings\n",
    "warnings.filterwarnings('ignore')"
   ]
  },
  {
   "cell_type": "code",
   "execution_count": null,
   "metadata": {},
   "outputs": [],
   "source": [
    "url = \"https://www.kaggle.com/datasets/gokulrajkmv/unemployment-in-india\"\n",
    "print(\"Please download the unemployment dataset from:\", url)\n",
    "print(\"Expected filename: Unemployment in India.csv\")"
   ]
  },
  {
   "cell_type": "code",
   "execution_count": null,
   "metadata": {},
   "outputs": [],
   "source": [
    "try:\n",
    "    df = pd.read_csv('Unemployment in India.csv')\n",
    "except:\n",
    "    print(\"Dataset not found. Creating sample data for demonstration...\")\n",
    "    np.random.seed(42)\n",
    "    n_samples = 1000\n",
    "    \n",
    "    states = ['Andhra Pradesh', 'Assam', 'Bihar', 'Gujarat', 'Haryana', 'Karnataka', \n",
    "              'Kerala', 'Madhya Pradesh', 'Maharashtra', 'Odisha', 'Punjab', \n",
    "              'Rajasthan', 'Tamil Nadu', 'Telangana', 'Uttar Pradesh', 'West Bengal']\n",
    "    \n",
    "    regions = ['Rural', 'Urban']\n",
    "    \n",
    "    dates = pd.date_range('2019-01-01', '2020-12-31', freq='M')\n",
    "    \n",
    "    data = []\n",
    "    for _ in range(n_samples):\n",
    "        state = np.random.choice(states)\n",
    "        region = np.random.choice(regions)\n",
    "        date = np.random.choice(dates)\n",
    "        \n",
    "        base_unemployment = np.random.uniform(1, 25)\n",
    "        estimated_unemployment = base_unemployment + np.random.normal(0, 2)\n",
    "        estimated_employed = 100 - estimated_unemployment - np.random.uniform(5, 15)\n",
    "        estimated_labour_participation = np.random.uniform(40, 70)\n",
    "        \n",
    "        data.append({\n",
    "            'Region': state,\n",
    "            'Date': date,\n",
    "            'Frequency': 'Monthly',\n",
    "            'Estimated Unemployment Rate (%)': max(0, estimated_unemployment),\n",
    "            'Estimated Employed': max(0, estimated_employed),\n",
    "            'Estimated Labour Participation Rate (%)': estimated_labour_participation,\n",
    "            'Region.1': region,\n",
    "            'longitude': np.random.uniform(68, 97),\n",
    "            'latitude': np.random.uniform(8, 37)\n",
    "        })\n",
    "    \n",
    "    df = pd.DataFrame(data)"
   ]
  },
  {
   "cell_type": "code",
   "execution_count": null,
   "metadata": {},
   "outputs": [],
   "source": [
    "print(\"Dataset Shape:\", df.shape)\n",
    "print(\"\\nDataset Info:\")\n",
    "print(df.info())"
   ]
  },
  {
   "cell_type": "code",
   "execution_count": null,
   "metadata": {},
   "outputs": [],
   "source": [
    "print(\"\\nFirst 5 rows:\")\n",
    "print(df.head())"
   ]
  },
  {
   "cell_type": "code",
   "execution_count": null,
   "metadata": {},
   "outputs": [],
   "source": [
    "print(\"\\nDataset Description:\")\n",
    "print(df.describe())"
   ]
  },
  {
   "cell_type": "code",
   "execution_count": null,
   "metadata": {},
   "outputs": [],
   "source": [
    "print(\"\\nMissing Values:\")\n",
    "print(df.isnull().sum())"
   ]
  },
  {
   "cell_type": "code",
   "execution_count": null,
   "metadata": {},
   "outputs": [],
   "source": [
    "df.fillna(df.mean(numeric_only=True), inplace=True)"
   ]
  },
  {
   "cell_type": "code",
   "execution_count": null,
   "metadata": {},
   "outputs": [],
   "source": [
    "if 'Date' in df.columns:\n",
    "    df['Date'] = pd.to_datetime(df['Date'])\n",
    "    df['Year'] = df['Date'].dt.year\n",
    "    df['Month'] = df['Date'].dt.month"
   ]
  },
  {
   "cell_type": "code",
   "execution_count": null,
   "metadata": {},
   "outputs": [],
   "source": [
    "print(\"\\nUnique values in categorical columns:\")\n",
    "for col in df.select_dtypes(include=['object']).columns:\n",
    "    print(f\"{col}: {df[col].nunique()} unique values\")"
   ]
  },
  {
   "cell_type": "code",
   "execution_count": null,
   "metadata": {},
   "outputs": [],
   "source": [
    "unemployment_col = 'Estimated Unemployment Rate (%)'\n",
    "employed_col = 'Estimated Employed'\n",
    "participation_col = 'Estimated Labour Participation Rate (%)'"
   ]
  },
  {
   "cell_type": "code",
   "execution_count": null,
   "metadata": {},
   "outputs": [],
   "source": [
    "plt.figure(figsize=(15, 12))\n",
    "\n",
    "plt.subplot(2, 3, 1)\n",
    "plt.hist(df[unemployment_col], bins=30, alpha=0.7, color='red')\n",
    "plt.title('Distribution of Unemployment Rate')\n",
    "plt.xlabel('Unemployment Rate (%)')\n",
    "plt.ylabel('Frequency')\n",
    "\n",
    "plt.subplot(2, 3, 2)\n",
    "if 'Region.1' in df.columns:\n",
    "    sns.boxplot(data=df, x='Region.1', y=unemployment_col)\n",
    "    plt.title('Unemployment Rate by Region Type')\n",
    "    plt.xticks(rotation=45)\n",
    "\n",
    "plt.subplot(2, 3, 3)\n",
    "if 'Year' in df.columns:\n",
    "    yearly_unemployment = df.groupby('Year')[unemployment_col].mean()\n",
    "    plt.plot(yearly_unemployment.index, yearly_unemployment.values, marker='o')\n",
    "    plt.title('Average Unemployment Rate by Year')\n",
    "    plt.xlabel('Year')\n",
    "    plt.ylabel('Unemployment Rate (%)')\n",
    "\n",
    "plt.subplot(2, 3, 4)\n",
    "if 'Region' in df.columns:\n",
    "    state_unemployment = df.groupby('Region')[unemployment_col].mean().sort_values(ascending=False).head(10)\n",
    "    plt.bar(range(len(state_unemployment)), state_unemployment.values)\n",
    "    plt.title('Top 10 States by Unemployment Rate')\n",
    "    plt.xlabel('States')\n",
    "    plt.ylabel('Unemployment Rate (%)')\n",
    "    plt.xticks(range(len(state_unemployment)), state_unemployment.index, rotation=90)\n",
    "\n",
    "plt.subplot(2, 3, 5)\n",
    "correlation_cols = [unemployment_col, employed_col, participation_col]\n",
    "if all(col in df.columns for col in correlation_cols):\n",
    "    correlation_matrix = df[correlation_cols].corr()\n",
    "    sns.heatmap(correlation_matrix, annot=True, cmap='coolwarm', center=0)\n",
    "    plt.title('Correlation Matrix')\n",
    "\n",
    "plt.subplot(2, 3, 6)\n",
    "if 'Month' in df.columns:\n",
    "    monthly_unemployment = df.groupby('Month')[unemployment_col].mean()\n",
    "    plt.plot(monthly_unemployment.index, monthly_unemployment.values, marker='s', color='green')\n",
    "    plt.title('Average Unemployment Rate by Month')\n",
    "    plt.xlabel('Month')\n",
    "    plt.ylabel('Unemployment Rate (%)')\n",
    "    plt.xticks(range(1, 13))\n",
    "\n",
    "plt.tight_layout()\n",
    "plt.show()"
   ]
  },
  {
   "cell_type": "code",
   "execution_count": null,
   "metadata": {},
   "outputs": [],
   "source": [
    "print(f\"\\nOverall Statistics:\")\n",
    "print(f\"Average Unemployment Rate: {df[unemployment_col].mean():.2f}%\")\n",
    "print(f\"Maximum Unemployment Rate: {df[unemployment_col].max():.2f}%\")\n",
    "print(f\"Minimum Unemployment Rate: {df[unemployment_col].min():.2f}%\")\n",
    "print(f\"Standard Deviation: {df[unemployment_col].std():.2f}%\")"
   ]
  },
  {
   "cell_type": "code",
   "execution_count": null,
   "metadata": {},
   "outputs": [],
   "source": [
    "if 'Region' in df.columns:\n",
    "    print(f\"\\nState-wise Analysis:\")\n",
    "    state_stats = df.groupby('Region')[unemployment_col].agg(['mean', 'max', 'min', 'std'])\n",
    "    print(state_stats.round(2))"
   ]
  },
  {
   "cell_type": "code",
   "execution_count": null,
   "metadata": {},
   "outputs": [],
   "source": [
    "if 'Region.1' in df.columns:\n",
    "    print(f\"\\nRegion-wise Analysis:\")\n",
    "    region_stats = df.groupby('Region.1')[unemployment_col].agg(['mean', 'max', 'min', 'count'])\n",
    "    print(region_stats.round(2))"
   ]
  },
  {
   "cell_type": "code",
   "execution_count": null,
   "metadata": {},
   "outputs": [],
   "source": [
    "numeric_columns = df.select_dtypes(include=[np.number]).columns.tolist()\n",
    "target_column = unemployment_col\n",
    "\n",
    "if target_column in numeric_columns:\n",
    "    feature_columns = [col for col in numeric_columns if col != target_column]\n",
    "    \n",
    "    if feature_columns:\n",
    "        le = LabelEncoder()\n",
    "        df_model = df.copy()\n",
    "        \n",
    "        for col in df_model.select_dtypes(include=['object']).columns:\n",
    "            df_model[col] = le.fit_transform(df_model[col].astype(str))\n",
    "        \n",
    "        X = df_model[feature_columns]\n",
    "        y = df_model[target_column]\n",
    "        \n",
    "        X_train, X_test, y_train, y_test = train_test_split(X, y, test_size=0.2, random_state=42)\n",
    "        \n",
    "        scaler = StandardScaler()\n",
    "        X_train_scaled = scaler.fit_transform(X_train)\n",
    "        X_test_scaled = scaler.transform(X_test)\n",
    "        \n",
    "        models = {\n",
    "            'Linear Regression': LinearRegression(),\n",
    "            'Random Forest': RandomForestRegressor(n_estimators=100, random_state=42)\n",
    "        }\n",
    "        \n",
    "        for name, model in models.items():\n",
    "            if name == 'Linear Regression':\n",
    "                model.fit(X_train_scaled, y_train)\n",
    "                y_pred = model.predict(X_test_scaled)\n",
    "            else:\n",
    "                model.fit(X_train, y_train)\n",
    "                y_pred = model.predict(X_test)\n",
    "            \n",
    "            mse = mean_squared_error(y_test, y_pred)\n",
    "            r2 = r2_score(y_test, y_pred)\n",
    "            mae = mean_absolute_error(y_test, y_pred)\n",
    "            \n",
    "            print(f\"\\n{name} Results:\")\n",
    "            print(f\"Mean Squared Error: {mse:.4f}\")\n",
    "            print(f\"R² Score: {r2:.4f}\")\n",
    "            print(f\"Mean Absolute Error: {mae:.4f}\")"
   ]
  },
  {
   "cell_type": "code",
   "execution_count": null,
   "metadata": {},
   "outputs": [],
   "source": [
    "plt.figure(figsize=(12, 8))\n",
    "\n",
    "if 'Date' in df.columns:\n",
    "    plt.subplot(2, 2, 1)\n",
    "    monthly_data = df.groupby(df['Date'].dt.to_period('M'))[unemployment_col].mean()\n",
    "    plt.plot(monthly_data.index.astype(str), monthly_data.values)\n",
    "    plt.title('Unemployment Rate Trend Over Time')\n",
    "    plt.xlabel('Date')\n",
    "    plt.ylabel('Unemployment Rate (%)')\n",
    "    plt.xticks(rotation=45)\n",
    "\n",
    "if 'Region' in df.columns:\n",
    "    plt.subplot(2, 2, 2)\n",
    "    top_states = df.groupby('Region')[unemployment_col].mean().nlargest(10)\n",
    "    plt.barh(range(len(top_states)), top_states.values)\n",
    "    plt.yticks(range(len(top_states)), top_states.index)\n",
    "    plt.title('Top 10 States with Highest Unemployment')\n",
    "    plt.xlabel('Unemployment Rate (%)')\n",
    "\n",
    "plt.subplot(2, 2, 3)\n",
    "plt.scatter(df[participation_col], df[unemployment_col], alpha=0.6)\n",
    "plt.xlabel('Labour Participation Rate (%)')\n",
    "plt.ylabel('Unemployment Rate (%)')\n",
    "plt.title('Unemployment vs Labour Participation')\n",
    "\n",
    "plt.subplot(2, 2, 4)\n",
    "if 'Region.1' in df.columns:\n",
    "    region_comparison = df.groupby('Region.1')[unemployment_col].mean()\n",
    "    plt.pie(region_comparison.values, labels=region_comparison.index, autopct='%1.1f%%')\n",
    "    plt.title('Unemployment Distribution by Region Type')\n",
    "\n",
    "plt.tight_layout()\n",
    "plt.show()"
   ]
  },
  {
   "cell_type": "code",
   "execution_count": null,
   "metadata": {},
   "outputs": [],
   "source": [
    "print(\"\\nKey Insights:\")\n",
    "print(\"1. Unemployment analysis completed with statistical summaries\")\n",
    "print(\"2. Regional and temporal patterns identified\")\n",
    "print(\"3. Correlation analysis performed between different employment metrics\")\n",
    "print(\"4. Predictive models trained for unemployment forecasting\")"
   ]
  }
 ],
 "metadata": {
  "kernelspec": {
   "display_name": "Python 3",
   "language": "python",
   "name": "python3"
  },
  "language_info": {
   "codemirror_mode": {
    "name": "ipython",
    "version": 3
   },
   "file_extension": ".py",
   "name": "python",
   "nbconvert_exporter": "python",
   "pygments_lexer": "ipython3",
   "version": "3.8.5"
  }
 },
 "nbformat": 4,
 "nbformat_minor": 4
}